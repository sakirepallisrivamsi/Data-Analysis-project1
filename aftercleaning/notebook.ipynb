{
 "cells": [
  {
   "cell_type": "code",
   "execution_count": 1,
   "metadata": {},
   "outputs": [],
   "source": [
    "import pandas as pd\n",
    "import numpy as np\n"
   ]
  },
  {
   "cell_type": "code",
   "execution_count": 2,
   "metadata": {},
   "outputs": [],
   "source": [
    "df = pd.read_csv('dataset.csv')"
   ]
  },
  {
   "cell_type": "code",
   "execution_count": null,
   "metadata": {},
   "outputs": [],
   "source": []
  },
  {
   "cell_type": "code",
   "execution_count": null,
   "metadata": {},
   "outputs": [],
   "source": []
  },
  {
   "cell_type": "code",
   "execution_count": null,
   "metadata": {},
   "outputs": [],
   "source": []
  },
  {
   "cell_type": "code",
   "execution_count": 3,
   "metadata": {},
   "outputs": [],
   "source": [
    "columns = ['X1', 'X2', 'X3', 'X4', 'X5', 'X6', 'X7', 'X8', 'X9', 'X10', 'X11', 'X12', 'X13', 'X14']"
   ]
  },
  {
   "cell_type": "code",
   "execution_count": null,
   "metadata": {},
   "outputs": [],
   "source": []
  },
  {
   "cell_type": "code",
   "execution_count": null,
   "metadata": {},
   "outputs": [],
   "source": []
  },
  {
   "cell_type": "code",
   "execution_count": 4,
   "metadata": {},
   "outputs": [
    {
     "data": {
      "text/html": [
       "<div>\n",
       "<style scoped>\n",
       "    .dataframe tbody tr th:only-of-type {\n",
       "        vertical-align: middle;\n",
       "    }\n",
       "\n",
       "    .dataframe tbody tr th {\n",
       "        vertical-align: top;\n",
       "    }\n",
       "\n",
       "    .dataframe thead th {\n",
       "        text-align: right;\n",
       "    }\n",
       "</style>\n",
       "<table border=\"1\" class=\"dataframe\">\n",
       "  <thead>\n",
       "    <tr style=\"text-align: right;\">\n",
       "      <th></th>\n",
       "      <th>X1</th>\n",
       "      <th>X2</th>\n",
       "      <th>X3</th>\n",
       "      <th>X4</th>\n",
       "      <th>X5</th>\n",
       "      <th>X6</th>\n",
       "      <th>X7</th>\n",
       "      <th>X8</th>\n",
       "      <th>X9</th>\n",
       "      <th>X10</th>\n",
       "      <th>X11</th>\n",
       "      <th>X12</th>\n",
       "      <th>X13</th>\n",
       "      <th>X14</th>\n",
       "    </tr>\n",
       "  </thead>\n",
       "  <tbody>\n",
       "    <tr>\n",
       "      <th>0</th>\n",
       "      <td>0.171429</td>\n",
       "      <td>0.030508</td>\n",
       "      <td>0.045455</td>\n",
       "      <td>0.6</td>\n",
       "      <td>0.787026</td>\n",
       "      <td>0.976996</td>\n",
       "      <td>0.788192</td>\n",
       "      <td>0.018349</td>\n",
       "      <td>0.956066</td>\n",
       "      <td>0.134645</td>\n",
       "      <td>0.000000</td>\n",
       "      <td>0.775162</td>\n",
       "      <td>0.706827</td>\n",
       "      <td>0.5625</td>\n",
       "    </tr>\n",
       "    <tr>\n",
       "      <th>1</th>\n",
       "      <td>0.300000</td>\n",
       "      <td>0.033898</td>\n",
       "      <td>0.072727</td>\n",
       "      <td>1.0</td>\n",
       "      <td>0.870257</td>\n",
       "      <td>0.983912</td>\n",
       "      <td>0.777622</td>\n",
       "      <td>0.011468</td>\n",
       "      <td>0.955782</td>\n",
       "      <td>0.129048</td>\n",
       "      <td>0.000495</td>\n",
       "      <td>0.777505</td>\n",
       "      <td>0.673568</td>\n",
       "      <td>0.9375</td>\n",
       "    </tr>\n",
       "    <tr>\n",
       "      <th>2</th>\n",
       "      <td>0.314286</td>\n",
       "      <td>0.332203</td>\n",
       "      <td>0.072727</td>\n",
       "      <td>0.6</td>\n",
       "      <td>0.730722</td>\n",
       "      <td>0.951887</td>\n",
       "      <td>0.424290</td>\n",
       "      <td>0.043578</td>\n",
       "      <td>0.957102</td>\n",
       "      <td>0.155044</td>\n",
       "      <td>0.004293</td>\n",
       "      <td>0.779986</td>\n",
       "      <td>0.741602</td>\n",
       "      <td>0.5625</td>\n",
       "    </tr>\n",
       "    <tr>\n",
       "      <th>3</th>\n",
       "      <td>0.314286</td>\n",
       "      <td>0.332203</td>\n",
       "      <td>0.072727</td>\n",
       "      <td>0.6</td>\n",
       "      <td>0.730722</td>\n",
       "      <td>0.951887</td>\n",
       "      <td>0.424290</td>\n",
       "      <td>0.043578</td>\n",
       "      <td>0.957102</td>\n",
       "      <td>0.155044</td>\n",
       "      <td>0.004293</td>\n",
       "      <td>0.779986</td>\n",
       "      <td>0.741602</td>\n",
       "      <td>0.5625</td>\n",
       "    </tr>\n",
       "    <tr>\n",
       "      <th>4</th>\n",
       "      <td>0.314286</td>\n",
       "      <td>0.155932</td>\n",
       "      <td>0.045455</td>\n",
       "      <td>0.6</td>\n",
       "      <td>0.856793</td>\n",
       "      <td>0.979326</td>\n",
       "      <td>0.753275</td>\n",
       "      <td>0.029817</td>\n",
       "      <td>0.956226</td>\n",
       "      <td>0.137795</td>\n",
       "      <td>0.001814</td>\n",
       "      <td>0.776052</td>\n",
       "      <td>0.734925</td>\n",
       "      <td>0.5625</td>\n",
       "    </tr>\n",
       "  </tbody>\n",
       "</table>\n",
       "</div>"
      ],
      "text/plain": [
       "         X1        X2        X3   X4        X5        X6        X7        X8  \\\n",
       "0  0.171429  0.030508  0.045455  0.6  0.787026  0.976996  0.788192  0.018349   \n",
       "1  0.300000  0.033898  0.072727  1.0  0.870257  0.983912  0.777622  0.011468   \n",
       "2  0.314286  0.332203  0.072727  0.6  0.730722  0.951887  0.424290  0.043578   \n",
       "3  0.314286  0.332203  0.072727  0.6  0.730722  0.951887  0.424290  0.043578   \n",
       "4  0.314286  0.155932  0.045455  0.6  0.856793  0.979326  0.753275  0.029817   \n",
       "\n",
       "         X9       X10       X11       X12       X13     X14  \n",
       "0  0.956066  0.134645  0.000000  0.775162  0.706827  0.5625  \n",
       "1  0.955782  0.129048  0.000495  0.777505  0.673568  0.9375  \n",
       "2  0.957102  0.155044  0.004293  0.779986  0.741602  0.5625  \n",
       "3  0.957102  0.155044  0.004293  0.779986  0.741602  0.5625  \n",
       "4  0.956226  0.137795  0.001814  0.776052  0.734925  0.5625  "
      ]
     },
     "execution_count": 4,
     "metadata": {},
     "output_type": "execute_result"
    }
   ],
   "source": [
    "df[columns].head()"
   ]
  },
  {
   "cell_type": "code",
   "execution_count": null,
   "metadata": {},
   "outputs": [],
   "source": []
  },
  {
   "cell_type": "code",
   "execution_count": 5,
   "metadata": {},
   "outputs": [
    {
     "data": {
      "text/html": [
       "<div>\n",
       "<style scoped>\n",
       "    .dataframe tbody tr th:only-of-type {\n",
       "        vertical-align: middle;\n",
       "    }\n",
       "\n",
       "    .dataframe tbody tr th {\n",
       "        vertical-align: top;\n",
       "    }\n",
       "\n",
       "    .dataframe thead th {\n",
       "        text-align: right;\n",
       "    }\n",
       "</style>\n",
       "<table border=\"1\" class=\"dataframe\">\n",
       "  <thead>\n",
       "    <tr style=\"text-align: right;\">\n",
       "      <th></th>\n",
       "      <th>X1</th>\n",
       "      <th>X2</th>\n",
       "      <th>X3</th>\n",
       "      <th>X4</th>\n",
       "      <th>X5</th>\n",
       "      <th>X6</th>\n",
       "      <th>X7</th>\n",
       "      <th>X8</th>\n",
       "      <th>X9</th>\n",
       "      <th>X10</th>\n",
       "      <th>X11</th>\n",
       "      <th>X12</th>\n",
       "      <th>X13</th>\n",
       "      <th>X14</th>\n",
       "      <th>Y</th>\n",
       "    </tr>\n",
       "  </thead>\n",
       "  <tbody>\n",
       "    <tr>\n",
       "      <th>0</th>\n",
       "      <td>0.171429</td>\n",
       "      <td>0.030508</td>\n",
       "      <td>0.045455</td>\n",
       "      <td>0.6</td>\n",
       "      <td>0.787026</td>\n",
       "      <td>0.976996</td>\n",
       "      <td>0.788192</td>\n",
       "      <td>0.018349</td>\n",
       "      <td>0.956066</td>\n",
       "      <td>0.134645</td>\n",
       "      <td>0.000000</td>\n",
       "      <td>0.775162</td>\n",
       "      <td>0.706827</td>\n",
       "      <td>0.5625</td>\n",
       "      <td>2</td>\n",
       "    </tr>\n",
       "    <tr>\n",
       "      <th>1</th>\n",
       "      <td>0.300000</td>\n",
       "      <td>0.033898</td>\n",
       "      <td>0.072727</td>\n",
       "      <td>1.0</td>\n",
       "      <td>0.870257</td>\n",
       "      <td>0.983912</td>\n",
       "      <td>0.777622</td>\n",
       "      <td>0.011468</td>\n",
       "      <td>0.955782</td>\n",
       "      <td>0.129048</td>\n",
       "      <td>0.000495</td>\n",
       "      <td>0.777505</td>\n",
       "      <td>0.673568</td>\n",
       "      <td>0.9375</td>\n",
       "      <td>6</td>\n",
       "    </tr>\n",
       "    <tr>\n",
       "      <th>2</th>\n",
       "      <td>0.314286</td>\n",
       "      <td>0.332203</td>\n",
       "      <td>0.072727</td>\n",
       "      <td>0.6</td>\n",
       "      <td>0.730722</td>\n",
       "      <td>0.951887</td>\n",
       "      <td>0.424290</td>\n",
       "      <td>0.043578</td>\n",
       "      <td>0.957102</td>\n",
       "      <td>0.155044</td>\n",
       "      <td>0.004293</td>\n",
       "      <td>0.779986</td>\n",
       "      <td>0.741602</td>\n",
       "      <td>0.5625</td>\n",
       "      <td>3</td>\n",
       "    </tr>\n",
       "    <tr>\n",
       "      <th>3</th>\n",
       "      <td>0.314286</td>\n",
       "      <td>0.332203</td>\n",
       "      <td>0.072727</td>\n",
       "      <td>0.6</td>\n",
       "      <td>0.730722</td>\n",
       "      <td>0.951887</td>\n",
       "      <td>0.424290</td>\n",
       "      <td>0.043578</td>\n",
       "      <td>0.957102</td>\n",
       "      <td>0.155044</td>\n",
       "      <td>0.004293</td>\n",
       "      <td>0.779986</td>\n",
       "      <td>0.741602</td>\n",
       "      <td>0.5625</td>\n",
       "      <td>3</td>\n",
       "    </tr>\n",
       "    <tr>\n",
       "      <th>4</th>\n",
       "      <td>0.314286</td>\n",
       "      <td>0.155932</td>\n",
       "      <td>0.045455</td>\n",
       "      <td>0.6</td>\n",
       "      <td>0.856793</td>\n",
       "      <td>0.979326</td>\n",
       "      <td>0.753275</td>\n",
       "      <td>0.029817</td>\n",
       "      <td>0.956226</td>\n",
       "      <td>0.137795</td>\n",
       "      <td>0.001814</td>\n",
       "      <td>0.776052</td>\n",
       "      <td>0.734925</td>\n",
       "      <td>0.5625</td>\n",
       "      <td>4</td>\n",
       "    </tr>\n",
       "  </tbody>\n",
       "</table>\n",
       "</div>"
      ],
      "text/plain": [
       "         X1        X2        X3   X4        X5        X6        X7        X8  \\\n",
       "0  0.171429  0.030508  0.045455  0.6  0.787026  0.976996  0.788192  0.018349   \n",
       "1  0.300000  0.033898  0.072727  1.0  0.870257  0.983912  0.777622  0.011468   \n",
       "2  0.314286  0.332203  0.072727  0.6  0.730722  0.951887  0.424290  0.043578   \n",
       "3  0.314286  0.332203  0.072727  0.6  0.730722  0.951887  0.424290  0.043578   \n",
       "4  0.314286  0.155932  0.045455  0.6  0.856793  0.979326  0.753275  0.029817   \n",
       "\n",
       "         X9       X10       X11       X12       X13     X14  Y  \n",
       "0  0.956066  0.134645  0.000000  0.775162  0.706827  0.5625  2  \n",
       "1  0.955782  0.129048  0.000495  0.777505  0.673568  0.9375  6  \n",
       "2  0.957102  0.155044  0.004293  0.779986  0.741602  0.5625  3  \n",
       "3  0.957102  0.155044  0.004293  0.779986  0.741602  0.5625  3  \n",
       "4  0.956226  0.137795  0.001814  0.776052  0.734925  0.5625  4  "
      ]
     },
     "execution_count": 5,
     "metadata": {},
     "output_type": "execute_result"
    }
   ],
   "source": [
    "df.head()"
   ]
  },
  {
   "cell_type": "code",
   "execution_count": null,
   "metadata": {},
   "outputs": [],
   "source": []
  },
  {
   "cell_type": "code",
   "execution_count": 6,
   "metadata": {},
   "outputs": [],
   "source": [
    "from sklearn.model_selection import train_test_split"
   ]
  },
  {
   "cell_type": "code",
   "execution_count": 7,
   "metadata": {},
   "outputs": [],
   "source": [
    "train, test = train_test_split(df, test_size=0.30, random_state=99)"
   ]
  },
  {
   "cell_type": "code",
   "execution_count": 8,
   "metadata": {},
   "outputs": [],
   "source": [
    "\n",
    "from sklearn.metrics import mean_squared_error, r2_score, confusion_matrix, classification_report #common metris to evaluate regression models\n"
   ]
  },
  {
   "cell_type": "code",
   "execution_count": null,
   "metadata": {},
   "outputs": [],
   "source": []
  },
  {
   "cell_type": "code",
   "execution_count": 9,
   "metadata": {},
   "outputs": [
    {
     "name": "stdout",
     "output_type": "stream",
     "text": [
      "[[  1   0   0   0   0   1]\n",
      " [  0   1   1   1   1  12]\n",
      " [  0   0   3   1   0  14]\n",
      " [  2   2   0   3   0  26]\n",
      " [  0   2   5   0   1  26]\n",
      " [  0   1   7   5   6 178]]\n",
      "              precision    recall  f1-score   support\n",
      "\n",
      "           1       0.33      0.50      0.40         2\n",
      "           2       0.17      0.06      0.09        16\n",
      "           3       0.19      0.17      0.18        18\n",
      "           4       0.30      0.09      0.14        33\n",
      "           5       0.12      0.03      0.05        34\n",
      "           6       0.69      0.90      0.78       197\n",
      "\n",
      "    accuracy                           0.62       300\n",
      "   macro avg       0.30      0.29      0.27       300\n",
      "weighted avg       0.52      0.62      0.55       300\n",
      "\n"
     ]
    }
   ],
   "source": [
    "\n",
    "from sklearn.neighbors import KNeighborsClassifier\n",
    "model = KNeighborsClassifier(n_neighbors = 9)\n",
    "model.fit(train[columns], train['Y'])\n",
    "\n",
    "pred = model.predict(test[columns])\n",
    "print(confusion_matrix(test['Y'], pred))\n",
    "print(classification_report(test['Y'], pred))\n"
   ]
  },
  {
   "cell_type": "code",
   "execution_count": 10,
   "metadata": {},
   "outputs": [
    {
     "data": {
      "text/html": [
       "<div>\n",
       "<style scoped>\n",
       "    .dataframe tbody tr th:only-of-type {\n",
       "        vertical-align: middle;\n",
       "    }\n",
       "\n",
       "    .dataframe tbody tr th {\n",
       "        vertical-align: top;\n",
       "    }\n",
       "\n",
       "    .dataframe thead th {\n",
       "        text-align: right;\n",
       "    }\n",
       "</style>\n",
       "<table border=\"1\" class=\"dataframe\">\n",
       "  <thead>\n",
       "    <tr style=\"text-align: right;\">\n",
       "      <th></th>\n",
       "      <th>Y</th>\n",
       "      <th>0</th>\n",
       "    </tr>\n",
       "  </thead>\n",
       "  <tbody>\n",
       "    <tr>\n",
       "      <th>0</th>\n",
       "      <td>6</td>\n",
       "      <td>6</td>\n",
       "    </tr>\n",
       "    <tr>\n",
       "      <th>1</th>\n",
       "      <td>4</td>\n",
       "      <td>6</td>\n",
       "    </tr>\n",
       "    <tr>\n",
       "      <th>2</th>\n",
       "      <td>3</td>\n",
       "      <td>6</td>\n",
       "    </tr>\n",
       "    <tr>\n",
       "      <th>3</th>\n",
       "      <td>5</td>\n",
       "      <td>3</td>\n",
       "    </tr>\n",
       "    <tr>\n",
       "      <th>4</th>\n",
       "      <td>6</td>\n",
       "      <td>6</td>\n",
       "    </tr>\n",
       "    <tr>\n",
       "      <th>...</th>\n",
       "      <td>...</td>\n",
       "      <td>...</td>\n",
       "    </tr>\n",
       "    <tr>\n",
       "      <th>295</th>\n",
       "      <td>6</td>\n",
       "      <td>6</td>\n",
       "    </tr>\n",
       "    <tr>\n",
       "      <th>296</th>\n",
       "      <td>6</td>\n",
       "      <td>6</td>\n",
       "    </tr>\n",
       "    <tr>\n",
       "      <th>297</th>\n",
       "      <td>6</td>\n",
       "      <td>6</td>\n",
       "    </tr>\n",
       "    <tr>\n",
       "      <th>298</th>\n",
       "      <td>2</td>\n",
       "      <td>6</td>\n",
       "    </tr>\n",
       "    <tr>\n",
       "      <th>299</th>\n",
       "      <td>6</td>\n",
       "      <td>6</td>\n",
       "    </tr>\n",
       "  </tbody>\n",
       "</table>\n",
       "<p>300 rows × 2 columns</p>\n",
       "</div>"
      ],
      "text/plain": [
       "     Y  0\n",
       "0    6  6\n",
       "1    4  6\n",
       "2    3  6\n",
       "3    5  3\n",
       "4    6  6\n",
       "..  .. ..\n",
       "295  6  6\n",
       "296  6  6\n",
       "297  6  6\n",
       "298  2  6\n",
       "299  6  6\n",
       "\n",
       "[300 rows x 2 columns]"
      ]
     },
     "execution_count": 10,
     "metadata": {},
     "output_type": "execute_result"
    }
   ],
   "source": [
    "pd.DataFrame(model.predict(test[columns]), test['Y']).reset_index()"
   ]
  },
  {
   "cell_type": "code",
   "execution_count": 11,
   "metadata": {},
   "outputs": [],
   "source": [
    "\n",
    "from sklearn.dummy import DummyClassifier\n",
    "from sklearn.decomposition import PCA\n",
    "from sklearn.discriminant_analysis import LinearDiscriminantAnalysis as LDA\n",
    "from sklearn.ensemble import RandomForestClassifier\n",
    "from sklearn.neural_network import MLPClassifier\n",
    "from sklearn.model_selection import GridSearchCV\n"
   ]
  },
  {
   "cell_type": "code",
   "execution_count": 12,
   "metadata": {},
   "outputs": [
    {
     "name": "stdout",
     "output_type": "stream",
     "text": [
      "[[  0   1   0   0   0   1]\n",
      " [  1   1   2   3   1   8]\n",
      " [  0   1   2   0   1  14]\n",
      " [  0   2   2   1   4  24]\n",
      " [  2   2   2   1   5  22]\n",
      " [  5  16  17  12  20 127]]\n",
      "              precision    recall  f1-score   support\n",
      "\n",
      "           1       0.00      0.00      0.00         2\n",
      "           2       0.04      0.06      0.05        16\n",
      "           3       0.08      0.11      0.09        18\n",
      "           4       0.06      0.03      0.04        33\n",
      "           5       0.16      0.15      0.15        34\n",
      "           6       0.65      0.64      0.65       197\n",
      "\n",
      "    accuracy                           0.45       300\n",
      "   macro avg       0.17      0.17      0.16       300\n",
      "weighted avg       0.46      0.45      0.45       300\n",
      "\n"
     ]
    },
    {
     "name": "stderr",
     "output_type": "stream",
     "text": [
      "/home/Srivamsi.s/anaconda3/envs/practice/lib/python3.8/site-packages/sklearn/dummy.py:131: FutureWarning: The default value of strategy will change from stratified to prior in 0.24.\n",
      "  warnings.warn(\"The default value of strategy will change from \"\n"
     ]
    }
   ],
   "source": [
    "# Dummy classifier chooses an output prediction out of random within the range of the provided inputs\n",
    "model = DummyClassifier()\n",
    "model.fit(train[columns], train['Y'])\n",
    "\n",
    "pred = model.predict(test[columns])\n",
    "print(confusion_matrix(test['Y'], pred))\n",
    "print(classification_report(test['Y'], pred))\n"
   ]
  },
  {
   "cell_type": "code",
   "execution_count": 13,
   "metadata": {},
   "outputs": [
    {
     "name": "stdout",
     "output_type": "stream",
     "text": [
      "[[  2   0   0   0   0   0]\n",
      " [  0   3   0   0   0  13]\n",
      " [  0   0   9   0   0   9]\n",
      " [  0   0   0   8   0  25]\n",
      " [  0   0   0   0  10  24]\n",
      " [  0   1   0   0   0 196]]\n",
      "              precision    recall  f1-score   support\n",
      "\n",
      "           1       1.00      1.00      1.00         2\n",
      "           2       0.75      0.19      0.30        16\n",
      "           3       1.00      0.50      0.67        18\n",
      "           4       1.00      0.24      0.39        33\n",
      "           5       1.00      0.29      0.45        34\n",
      "           6       0.73      0.99      0.84       197\n",
      "\n",
      "    accuracy                           0.76       300\n",
      "   macro avg       0.91      0.54      0.61       300\n",
      "weighted avg       0.81      0.76      0.71       300\n",
      "\n"
     ]
    }
   ],
   "source": [
    "# Random forest classifier creates multiple decision trees to create an optimized classifier\n",
    "model = RandomForestClassifier()\n",
    "model.fit(train[columns], train['Y'])\n",
    "\n",
    "pred = model.predict(test[columns])\n",
    "print(confusion_matrix(test['Y'], pred))\n",
    "print(classification_report(test['Y'], pred))\n",
    "\n",
    "\n"
   ]
  },
  {
   "cell_type": "code",
   "execution_count": 14,
   "metadata": {},
   "outputs": [
    {
     "name": "stdout",
     "output_type": "stream",
     "text": [
      "[[  1   0   0   0   0   1]\n",
      " [  0   0   0   0   0  16]\n",
      " [  0   0   3   1   0  14]\n",
      " [  0   0   2   2   0  29]\n",
      " [  0   0   0   0   4  30]\n",
      " [  0   0   0   0   1 196]]\n",
      "              precision    recall  f1-score   support\n",
      "\n",
      "           1       1.00      0.50      0.67         2\n",
      "           2       0.00      0.00      0.00        16\n",
      "           3       0.60      0.17      0.26        18\n",
      "           4       0.67      0.06      0.11        33\n",
      "           5       0.80      0.12      0.21        34\n",
      "           6       0.69      0.99      0.81       197\n",
      "\n",
      "    accuracy                           0.69       300\n",
      "   macro avg       0.63      0.31      0.34       300\n",
      "weighted avg       0.66      0.69      0.59       300\n",
      "\n"
     ]
    },
    {
     "name": "stderr",
     "output_type": "stream",
     "text": [
      "/home/Srivamsi.s/anaconda3/envs/practice/lib/python3.8/site-packages/sklearn/metrics/_classification.py:1272: UndefinedMetricWarning: Precision and F-score are ill-defined and being set to 0.0 in labels with no predicted samples. Use `zero_division` parameter to control this behavior.\n",
      "  _warn_prf(average, modifier, msg_start, len(result))\n"
     ]
    }
   ],
   "source": [
    "# Grid search cv: it's an exhaustive search to look for the best classifier based on the instructions provided \n",
    "parameters_f = [{'max_depth': range(3,8), 'n_estimators': range(5,10), 'max_features': range(4,11)}]\n",
    "model = GridSearchCV(RandomForestClassifier(random_state=0), parameters_f)\n",
    "\n",
    "model.fit(train[columns], train['Y'])\n",
    "\n",
    "pred = model.predict(test[columns])\n",
    "print(confusion_matrix(test['Y'], pred))\n",
    "print(classification_report(test['Y'], pred))\n",
    "\n"
   ]
  },
  {
   "cell_type": "code",
   "execution_count": 15,
   "metadata": {},
   "outputs": [
    {
     "name": "stdout",
     "output_type": "stream",
     "text": [
      "[[  0   0   0   0   0   2]\n",
      " [  0   0   0   0   0  16]\n",
      " [  0   0   0   0   0  18]\n",
      " [  0   0   0   0   0  33]\n",
      " [  0   0   0   0   0  34]\n",
      " [  0   0   0   0   0 197]]\n",
      "              precision    recall  f1-score   support\n",
      "\n",
      "           1       0.00      0.00      0.00         2\n",
      "           2       0.00      0.00      0.00        16\n",
      "           3       0.00      0.00      0.00        18\n",
      "           4       0.00      0.00      0.00        33\n",
      "           5       0.00      0.00      0.00        34\n",
      "           6       0.66      1.00      0.79       197\n",
      "\n",
      "    accuracy                           0.66       300\n",
      "   macro avg       0.11      0.17      0.13       300\n",
      "weighted avg       0.43      0.66      0.52       300\n",
      "\n"
     ]
    },
    {
     "name": "stderr",
     "output_type": "stream",
     "text": [
      "/home/Srivamsi.s/anaconda3/envs/practice/lib/python3.8/site-packages/sklearn/neural_network/_multilayer_perceptron.py:568: ConvergenceWarning: Stochastic Optimizer: Maximum iterations (200) reached and the optimization hasn't converged yet.\n",
      "  warnings.warn(\n",
      "/home/Srivamsi.s/anaconda3/envs/practice/lib/python3.8/site-packages/sklearn/metrics/_classification.py:1272: UndefinedMetricWarning: Precision and F-score are ill-defined and being set to 0.0 in labels with no predicted samples. Use `zero_division` parameter to control this behavior.\n",
      "  _warn_prf(average, modifier, msg_start, len(result))\n"
     ]
    }
   ],
   "source": [
    "# MLP classifier is a neural network that is created. It stands for multi layer perceptron\n",
    "model = MLPClassifier()\n",
    "\n",
    "model.fit(train[columns], train['Y'])\n",
    "\n",
    "pred = model.predict(test[columns])\n",
    "print(confusion_matrix(test['Y'], pred))\n",
    "print(classification_report(test['Y'], pred))\n"
   ]
  },
  {
   "cell_type": "code",
   "execution_count": null,
   "metadata": {},
   "outputs": [
    {
     "name": "stderr",
     "output_type": "stream",
     "text": [
      "/home/Srivamsi.s/anaconda3/envs/practice/lib/python3.8/site-packages/sklearn/neural_network/_multilayer_perceptron.py:568: ConvergenceWarning: Stochastic Optimizer: Maximum iterations (500) reached and the optimization hasn't converged yet.\n",
      "  warnings.warn(\n",
      "/home/Srivamsi.s/anaconda3/envs/practice/lib/python3.8/site-packages/sklearn/neural_network/_multilayer_perceptron.py:568: ConvergenceWarning: Stochastic Optimizer: Maximum iterations (500) reached and the optimization hasn't converged yet.\n",
      "  warnings.warn(\n",
      "/home/Srivamsi.s/anaconda3/envs/practice/lib/python3.8/site-packages/sklearn/neural_network/_multilayer_perceptron.py:568: ConvergenceWarning: Stochastic Optimizer: Maximum iterations (500) reached and the optimization hasn't converged yet.\n",
      "  warnings.warn(\n",
      "/home/Srivamsi.s/anaconda3/envs/practice/lib/python3.8/site-packages/sklearn/neural_network/_multilayer_perceptron.py:568: ConvergenceWarning: Stochastic Optimizer: Maximum iterations (500) reached and the optimization hasn't converged yet.\n",
      "  warnings.warn(\n",
      "/home/Srivamsi.s/anaconda3/envs/practice/lib/python3.8/site-packages/sklearn/neural_network/_multilayer_perceptron.py:568: ConvergenceWarning: Stochastic Optimizer: Maximum iterations (500) reached and the optimization hasn't converged yet.\n",
      "  warnings.warn(\n",
      "/home/Srivamsi.s/anaconda3/envs/practice/lib/python3.8/site-packages/sklearn/neural_network/_multilayer_perceptron.py:568: ConvergenceWarning: Stochastic Optimizer: Maximum iterations (500) reached and the optimization hasn't converged yet.\n",
      "  warnings.warn(\n",
      "/home/Srivamsi.s/anaconda3/envs/practice/lib/python3.8/site-packages/sklearn/neural_network/_multilayer_perceptron.py:568: ConvergenceWarning: Stochastic Optimizer: Maximum iterations (500) reached and the optimization hasn't converged yet.\n",
      "  warnings.warn(\n",
      "/home/Srivamsi.s/anaconda3/envs/practice/lib/python3.8/site-packages/sklearn/neural_network/_multilayer_perceptron.py:568: ConvergenceWarning: Stochastic Optimizer: Maximum iterations (500) reached and the optimization hasn't converged yet.\n",
      "  warnings.warn(\n",
      "/home/Srivamsi.s/anaconda3/envs/practice/lib/python3.8/site-packages/sklearn/neural_network/_multilayer_perceptron.py:568: ConvergenceWarning: Stochastic Optimizer: Maximum iterations (500) reached and the optimization hasn't converged yet.\n",
      "  warnings.warn(\n",
      "/home/Srivamsi.s/anaconda3/envs/practice/lib/python3.8/site-packages/sklearn/neural_network/_multilayer_perceptron.py:568: ConvergenceWarning: Stochastic Optimizer: Maximum iterations (500) reached and the optimization hasn't converged yet.\n",
      "  warnings.warn(\n",
      "/home/Srivamsi.s/anaconda3/envs/practice/lib/python3.8/site-packages/sklearn/neural_network/_multilayer_perceptron.py:568: ConvergenceWarning: Stochastic Optimizer: Maximum iterations (500) reached and the optimization hasn't converged yet.\n",
      "  warnings.warn(\n",
      "/home/Srivamsi.s/anaconda3/envs/practice/lib/python3.8/site-packages/sklearn/neural_network/_multilayer_perceptron.py:568: ConvergenceWarning: Stochastic Optimizer: Maximum iterations (500) reached and the optimization hasn't converged yet.\n",
      "  warnings.warn(\n",
      "/home/Srivamsi.s/anaconda3/envs/practice/lib/python3.8/site-packages/sklearn/neural_network/_multilayer_perceptron.py:568: ConvergenceWarning: Stochastic Optimizer: Maximum iterations (500) reached and the optimization hasn't converged yet.\n",
      "  warnings.warn(\n",
      "/home/Srivamsi.s/anaconda3/envs/practice/lib/python3.8/site-packages/sklearn/neural_network/_multilayer_perceptron.py:568: ConvergenceWarning: Stochastic Optimizer: Maximum iterations (500) reached and the optimization hasn't converged yet.\n",
      "  warnings.warn(\n",
      "/home/Srivamsi.s/anaconda3/envs/practice/lib/python3.8/site-packages/sklearn/neural_network/_multilayer_perceptron.py:568: ConvergenceWarning: Stochastic Optimizer: Maximum iterations (500) reached and the optimization hasn't converged yet.\n",
      "  warnings.warn(\n"
     ]
    }
   ],
   "source": [
    "# Grid search with Neural network. \n",
    "# sgd: stochastic gradient descent. algorithm for finding the minima and reducing the error\n",
    "# alpha: L2 penalty\n",
    "# activation: activation functions to pass through and create continuous, increasing, differentiable output (sometimes non linear)\n",
    "# hidden layer size: set input and output layers are set based on the data. middle layers sizes can be changed as per requirement\n",
    "parameters_n = [{'alpha': [0.0001, 0.001, 0.01, 0.1],'activation': ['tanh', 'relu'],\n",
    "    'solver': ['sgd', 'adam'],\n",
    "    'learning_rate': ['constant','adaptive'], 'hidden_layer_sizes':[(2,),(4,),(7,)]}]\n",
    "model = GridSearchCV(MLPClassifier(random_state=2, max_iter = 500), parameters_n,cv=4)\n",
    "\n",
    "\n",
    "model.fit(train[columns], train['Y'])\n",
    "\n",
    "pred = model.predict(test[columns])\n",
    "print(confusion_matrix(test['Y'], pred))\n",
    "print(classification_report(test['Y'], pred))\n",
    "\n"
   ]
  },
  {
   "cell_type": "code",
   "execution_count": null,
   "metadata": {},
   "outputs": [],
   "source": []
  },
  {
   "cell_type": "code",
   "execution_count": null,
   "metadata": {},
   "outputs": [],
   "source": [
    "from sklearn import svm"
   ]
  },
  {
   "cell_type": "code",
   "execution_count": null,
   "metadata": {},
   "outputs": [],
   "source": [
    "model = svm.SVC()\n",
    "params_grid = [{'kernel': ['rbf'], 'gamma': [1e-3, 1e-4],\n",
    "                     'C': [1, 10, 100, 1000]},\n",
    "                    {'kernel': ['linear'], 'C': [1, 10, 100, 1000]}]\n",
    "model = GridSearchCV(model, params_grid, cv=5)\n",
    "\n",
    "\n",
    "model.fit(train[columns], train['Y'])\n",
    "\n",
    "pred = model.predict(test[columns])\n",
    "print(confusion_matrix(test['Y'], pred))\n",
    "print(classification_report(test['Y'], pred))\n"
   ]
  },
  {
   "cell_type": "code",
   "execution_count": null,
   "metadata": {},
   "outputs": [],
   "source": []
  },
  {
   "cell_type": "code",
   "execution_count": null,
   "metadata": {},
   "outputs": [],
   "source": [
    "from sklearn.naive_bayes import GaussianNB , MultinomialNB, BernoulliNB, ComplementNB"
   ]
  },
  {
   "cell_type": "code",
   "execution_count": null,
   "metadata": {},
   "outputs": [],
   "source": [
    "model = GaussianNB()\n",
    "\n",
    "model.fit(train[columns], train['Y'])\n",
    "\n",
    "pred = model.predict(test[columns])\n",
    "print(confusion_matrix(test['Y'], pred))\n",
    "print(classification_report(test['Y'], pred))\n"
   ]
  },
  {
   "cell_type": "code",
   "execution_count": null,
   "metadata": {},
   "outputs": [],
   "source": [
    "model=MultinomialNB(alpha=1.0, fit_prior=True)\n",
    "model.fit(train[columns], train['Y'])\n",
    "\n",
    "pred = model.predict(test[columns])\n",
    "print(confusion_matrix(test['Y'], pred))\n",
    "print(classification_report(test['Y'], pred))\n"
   ]
  },
  {
   "cell_type": "code",
   "execution_count": null,
   "metadata": {},
   "outputs": [],
   "source": [
    "model=BernoulliNB(alpha=1.5,  fit_prior=True)\n",
    "model.fit(train[columns], train['Y'])\n",
    "\n",
    "pred = model.predict(test[columns])\n",
    "print(confusion_matrix(test['Y'], pred))\n",
    "print(classification_report(test['Y'], pred))\n"
   ]
  },
  {
   "cell_type": "code",
   "execution_count": null,
   "metadata": {},
   "outputs": [],
   "source": [
    "model=ComplementNB(alpha=20, fit_prior=True)\n",
    "model.fit(train[columns], train['Y'])\n",
    "\n",
    "pred = model.predict(test[columns])\n",
    "print(confusion_matrix(test['Y'], pred))\n",
    "print(classification_report(test['Y'], pred))\n"
   ]
  },
  {
   "cell_type": "code",
   "execution_count": null,
   "metadata": {},
   "outputs": [],
   "source": [
    "from sklearn.ensemble import AdaBoostClassifier, BaggingClassifier, GradientBoostingClassifier ,VotingClassifier\n",
    "from sklearn.tree import DecisionTreeClassifier"
   ]
  },
  {
   "cell_type": "code",
   "execution_count": null,
   "metadata": {},
   "outputs": [],
   "source": [
    "bdt = AdaBoostClassifier(DecisionTreeClassifier(max_depth=2),\n",
    "                         algorithm=\"SAMME\",\n",
    "                         n_estimators=200)\n",
    "bdt.fit(train[columns], train['Y'])\n",
    "\n",
    "pred = bdt.predict(test[columns])\n",
    "print(confusion_matrix(test['Y'], pred))\n",
    "print(classification_report(test['Y'], pred))\n"
   ]
  },
  {
   "cell_type": "code",
   "execution_count": null,
   "metadata": {},
   "outputs": [],
   "source": [
    "clf1 = GradientBoostingClassifier(n_estimators=100, learning_rate=1.17,\n",
    "    max_depth=2, random_state=0)\n",
    "\n",
    "clf1.fit(train[columns], train['Y'])\n",
    "\n",
    "pred = clf1.predict(test[columns])\n",
    "print(confusion_matrix(test['Y'], pred))\n",
    "print(classification_report(test['Y'], pred))\n"
   ]
  },
  {
   "cell_type": "code",
   "execution_count": null,
   "metadata": {},
   "outputs": [],
   "source": []
  },
  {
   "cell_type": "code",
   "execution_count": null,
   "metadata": {},
   "outputs": [],
   "source": [
    "from sklearn.model_selection import cross_val_score"
   ]
  },
  {
   "cell_type": "code",
   "execution_count": null,
   "metadata": {},
   "outputs": [],
   "source": [
    "eclfh = VotingClassifier(estimators=[('gbc', clf1), ('bdt', bdt)], voting='soft')\n",
    "for clf, label in zip([clf1, bdt , eclfh], ['GBC',  'Ber naive Bayes', 'Ensemble']):\n",
    "    scores = cross_val_score(clf, train[columns], train['Y'], cv=5, scoring='accuracy')\n",
    "    print(\"Accuracy: %0.2f (+/- %0.2f) [%s]\" % (scores.mean(), scores.std(), label))"
   ]
  },
  {
   "cell_type": "code",
   "execution_count": null,
   "metadata": {},
   "outputs": [],
   "source": []
  },
  {
   "cell_type": "code",
   "execution_count": null,
   "metadata": {},
   "outputs": [],
   "source": []
  },
  {
   "cell_type": "code",
   "execution_count": null,
   "metadata": {},
   "outputs": [],
   "source": []
  },
  {
   "cell_type": "code",
   "execution_count": null,
   "metadata": {},
   "outputs": [],
   "source": []
  },
  {
   "cell_type": "code",
   "execution_count": null,
   "metadata": {},
   "outputs": [],
   "source": []
  }
 ],
 "metadata": {
  "kernelspec": {
   "display_name": "Python 3",
   "language": "python",
   "name": "python3"
  },
  "language_info": {
   "codemirror_mode": {
    "name": "ipython",
    "version": 3
   },
   "file_extension": ".py",
   "mimetype": "text/x-python",
   "name": "python",
   "nbconvert_exporter": "python",
   "pygments_lexer": "ipython3",
   "version": "3.8.1"
  }
 },
 "nbformat": 4,
 "nbformat_minor": 4
}
