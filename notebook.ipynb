{
 "cells": [
  {
   "cell_type": "code",
   "execution_count": 1,
   "metadata": {},
   "outputs": [],
   "source": [
    "import pandas as pd\n",
    "import numpy as np\n"
   ]
  },
  {
   "cell_type": "code",
   "execution_count": 2,
   "metadata": {},
   "outputs": [],
   "source": [
    "df = pd.read_csv('cleaned_dataset.csv')"
   ]
  },
  {
   "cell_type": "code",
   "execution_count": null,
   "metadata": {},
   "outputs": [],
   "source": []
  },
  {
   "cell_type": "code",
   "execution_count": 3,
   "metadata": {},
   "outputs": [
    {
     "data": {
      "text/html": [
       "<div>\n",
       "<style scoped>\n",
       "    .dataframe tbody tr th:only-of-type {\n",
       "        vertical-align: middle;\n",
       "    }\n",
       "\n",
       "    .dataframe tbody tr th {\n",
       "        vertical-align: top;\n",
       "    }\n",
       "\n",
       "    .dataframe thead th {\n",
       "        text-align: right;\n",
       "    }\n",
       "</style>\n",
       "<table border=\"1\" class=\"dataframe\">\n",
       "  <thead>\n",
       "    <tr style=\"text-align: right;\">\n",
       "      <th></th>\n",
       "      <th>C1</th>\n",
       "      <th>X1</th>\n",
       "      <th>X2</th>\n",
       "      <th>X3</th>\n",
       "      <th>X4</th>\n",
       "      <th>X5</th>\n",
       "      <th>C2</th>\n",
       "      <th>X6</th>\n",
       "      <th>X7</th>\n",
       "      <th>X8</th>\n",
       "      <th>X9</th>\n",
       "      <th>X10</th>\n",
       "      <th>X11</th>\n",
       "      <th>X12</th>\n",
       "      <th>X13</th>\n",
       "      <th>score</th>\n",
       "      <th>Y</th>\n",
       "    </tr>\n",
       "  </thead>\n",
       "  <tbody>\n",
       "    <tr>\n",
       "      <th>0</th>\n",
       "      <td>Building supplies and accessories</td>\n",
       "      <td>0.093398</td>\n",
       "      <td>0.014173</td>\n",
       "      <td>0.444444</td>\n",
       "      <td>0.657143</td>\n",
       "      <td>0.867384</td>\n",
       "      <td>ecom</td>\n",
       "      <td>0.870968</td>\n",
       "      <td>0.019481</td>\n",
       "      <td>0.833058</td>\n",
       "      <td>0.208023</td>\n",
       "      <td>0.000002</td>\n",
       "      <td>0.323554</td>\n",
       "      <td>0.543076</td>\n",
       "      <td>0.90</td>\n",
       "      <td>1.473684</td>\n",
       "      <td>1</td>\n",
       "    </tr>\n",
       "    <tr>\n",
       "      <th>1</th>\n",
       "      <td>Industrial Supplies &amp; Solutions</td>\n",
       "      <td>0.188406</td>\n",
       "      <td>0.055118</td>\n",
       "      <td>0.444444</td>\n",
       "      <td>0.657143</td>\n",
       "      <td>0.770609</td>\n",
       "      <td>ecom</td>\n",
       "      <td>0.563777</td>\n",
       "      <td>0.073593</td>\n",
       "      <td>0.833087</td>\n",
       "      <td>0.207978</td>\n",
       "      <td>0.000002</td>\n",
       "      <td>0.323515</td>\n",
       "      <td>0.587864</td>\n",
       "      <td>0.80</td>\n",
       "      <td>1.294118</td>\n",
       "      <td>1</td>\n",
       "    </tr>\n",
       "    <tr>\n",
       "      <th>2</th>\n",
       "      <td>Computers,Mobile &amp; related Accessories</td>\n",
       "      <td>0.281804</td>\n",
       "      <td>0.021260</td>\n",
       "      <td>0.555556</td>\n",
       "      <td>0.657143</td>\n",
       "      <td>0.886499</td>\n",
       "      <td>ecom</td>\n",
       "      <td>0.810842</td>\n",
       "      <td>0.112554</td>\n",
       "      <td>0.832474</td>\n",
       "      <td>0.206731</td>\n",
       "      <td>0.001347</td>\n",
       "      <td>0.322450</td>\n",
       "      <td>0.633580</td>\n",
       "      <td>0.70</td>\n",
       "      <td>1.400000</td>\n",
       "      <td>1</td>\n",
       "    </tr>\n",
       "    <tr>\n",
       "      <th>3</th>\n",
       "      <td>Other Service Activities</td>\n",
       "      <td>0.217391</td>\n",
       "      <td>0.003937</td>\n",
       "      <td>0.444444</td>\n",
       "      <td>0.314286</td>\n",
       "      <td>0.776583</td>\n",
       "      <td>ecom</td>\n",
       "      <td>0.741335</td>\n",
       "      <td>0.019481</td>\n",
       "      <td>0.832119</td>\n",
       "      <td>0.205823</td>\n",
       "      <td>0.001018</td>\n",
       "      <td>0.321675</td>\n",
       "      <td>0.569124</td>\n",
       "      <td>0.55</td>\n",
       "      <td>1.250000</td>\n",
       "      <td>1</td>\n",
       "    </tr>\n",
       "    <tr>\n",
       "      <th>4</th>\n",
       "      <td>Home, Furnishing and Decor</td>\n",
       "      <td>0.212560</td>\n",
       "      <td>0.005512</td>\n",
       "      <td>0.611111</td>\n",
       "      <td>0.314286</td>\n",
       "      <td>0.830346</td>\n",
       "      <td>ecom</td>\n",
       "      <td>0.813291</td>\n",
       "      <td>0.041126</td>\n",
       "      <td>0.832070</td>\n",
       "      <td>0.205714</td>\n",
       "      <td>0.000252</td>\n",
       "      <td>0.321582</td>\n",
       "      <td>0.576634</td>\n",
       "      <td>0.55</td>\n",
       "      <td>1.416667</td>\n",
       "      <td>1</td>\n",
       "    </tr>\n",
       "  </tbody>\n",
       "</table>\n",
       "</div>"
      ],
      "text/plain": [
       "                                       C1        X1        X2        X3  \\\n",
       "0       Building supplies and accessories  0.093398  0.014173  0.444444   \n",
       "1         Industrial Supplies & Solutions  0.188406  0.055118  0.444444   \n",
       "2  Computers,Mobile & related Accessories  0.281804  0.021260  0.555556   \n",
       "3                Other Service Activities  0.217391  0.003937  0.444444   \n",
       "4              Home, Furnishing and Decor  0.212560  0.005512  0.611111   \n",
       "\n",
       "         X4        X5    C2        X6        X7        X8        X9       X10  \\\n",
       "0  0.657143  0.867384  ecom  0.870968  0.019481  0.833058  0.208023  0.000002   \n",
       "1  0.657143  0.770609  ecom  0.563777  0.073593  0.833087  0.207978  0.000002   \n",
       "2  0.657143  0.886499  ecom  0.810842  0.112554  0.832474  0.206731  0.001347   \n",
       "3  0.314286  0.776583  ecom  0.741335  0.019481  0.832119  0.205823  0.001018   \n",
       "4  0.314286  0.830346  ecom  0.813291  0.041126  0.832070  0.205714  0.000252   \n",
       "\n",
       "        X11       X12   X13     score  Y  \n",
       "0  0.323554  0.543076  0.90  1.473684  1  \n",
       "1  0.323515  0.587864  0.80  1.294118  1  \n",
       "2  0.322450  0.633580  0.70  1.400000  1  \n",
       "3  0.321675  0.569124  0.55  1.250000  1  \n",
       "4  0.321582  0.576634  0.55  1.416667  1  "
      ]
     },
     "execution_count": 3,
     "metadata": {},
     "output_type": "execute_result"
    }
   ],
   "source": [
    "df.head()"
   ]
  },
  {
   "cell_type": "code",
   "execution_count": 4,
   "metadata": {},
   "outputs": [],
   "source": [
    "df = df.fillna(df.mean())"
   ]
  },
  {
   "cell_type": "code",
   "execution_count": 5,
   "metadata": {},
   "outputs": [
    {
     "name": "stdout",
     "output_type": "stream",
     "text": [
      "<class 'pandas.core.frame.DataFrame'>\n",
      "RangeIndex: 8155 entries, 0 to 8154\n",
      "Data columns (total 17 columns):\n",
      " #   Column  Non-Null Count  Dtype  \n",
      "---  ------  --------------  -----  \n",
      " 0   C1      8155 non-null   object \n",
      " 1   X1      8155 non-null   float64\n",
      " 2   X2      8155 non-null   float64\n",
      " 3   X3      8155 non-null   float64\n",
      " 4   X4      8155 non-null   float64\n",
      " 5   X5      8155 non-null   float64\n",
      " 6   C2      8154 non-null   object \n",
      " 7   X6      8155 non-null   float64\n",
      " 8   X7      8155 non-null   float64\n",
      " 9   X8      8155 non-null   float64\n",
      " 10  X9      8155 non-null   float64\n",
      " 11  X10     8155 non-null   float64\n",
      " 12  X11     8155 non-null   float64\n",
      " 13  X12     8155 non-null   float64\n",
      " 14  X13     8155 non-null   float64\n",
      " 15  score   8155 non-null   float64\n",
      " 16  Y       8155 non-null   int64  \n",
      "dtypes: float64(14), int64(1), object(2)\n",
      "memory usage: 1.1+ MB\n"
     ]
    }
   ],
   "source": [
    "df.info()"
   ]
  },
  {
   "cell_type": "code",
   "execution_count": 6,
   "metadata": {},
   "outputs": [],
   "source": [
    "columns = ['X1', 'X2', 'X3', 'X4', 'X5', 'X6', 'X7', 'X8', 'X9', 'X10', 'X11', 'X12', 'X13']"
   ]
  },
  {
   "cell_type": "code",
   "execution_count": null,
   "metadata": {},
   "outputs": [],
   "source": []
  },
  {
   "cell_type": "code",
   "execution_count": 7,
   "metadata": {},
   "outputs": [
    {
     "data": {
      "text/html": [
       "<div>\n",
       "<style scoped>\n",
       "    .dataframe tbody tr th:only-of-type {\n",
       "        vertical-align: middle;\n",
       "    }\n",
       "\n",
       "    .dataframe tbody tr th {\n",
       "        vertical-align: top;\n",
       "    }\n",
       "\n",
       "    .dataframe thead th {\n",
       "        text-align: right;\n",
       "    }\n",
       "</style>\n",
       "<table border=\"1\" class=\"dataframe\">\n",
       "  <thead>\n",
       "    <tr style=\"text-align: right;\">\n",
       "      <th></th>\n",
       "      <th>X1</th>\n",
       "      <th>X2</th>\n",
       "      <th>X3</th>\n",
       "      <th>X4</th>\n",
       "      <th>X5</th>\n",
       "      <th>X6</th>\n",
       "      <th>X7</th>\n",
       "      <th>X8</th>\n",
       "      <th>X9</th>\n",
       "      <th>X10</th>\n",
       "      <th>X11</th>\n",
       "      <th>X12</th>\n",
       "      <th>X13</th>\n",
       "    </tr>\n",
       "  </thead>\n",
       "  <tbody>\n",
       "    <tr>\n",
       "      <th>0</th>\n",
       "      <td>0.093398</td>\n",
       "      <td>0.014173</td>\n",
       "      <td>0.444444</td>\n",
       "      <td>0.657143</td>\n",
       "      <td>0.867384</td>\n",
       "      <td>0.870968</td>\n",
       "      <td>0.019481</td>\n",
       "      <td>0.833058</td>\n",
       "      <td>0.208023</td>\n",
       "      <td>0.000002</td>\n",
       "      <td>0.323554</td>\n",
       "      <td>0.543076</td>\n",
       "      <td>0.90</td>\n",
       "    </tr>\n",
       "    <tr>\n",
       "      <th>1</th>\n",
       "      <td>0.188406</td>\n",
       "      <td>0.055118</td>\n",
       "      <td>0.444444</td>\n",
       "      <td>0.657143</td>\n",
       "      <td>0.770609</td>\n",
       "      <td>0.563777</td>\n",
       "      <td>0.073593</td>\n",
       "      <td>0.833087</td>\n",
       "      <td>0.207978</td>\n",
       "      <td>0.000002</td>\n",
       "      <td>0.323515</td>\n",
       "      <td>0.587864</td>\n",
       "      <td>0.80</td>\n",
       "    </tr>\n",
       "    <tr>\n",
       "      <th>2</th>\n",
       "      <td>0.281804</td>\n",
       "      <td>0.021260</td>\n",
       "      <td>0.555556</td>\n",
       "      <td>0.657143</td>\n",
       "      <td>0.886499</td>\n",
       "      <td>0.810842</td>\n",
       "      <td>0.112554</td>\n",
       "      <td>0.832474</td>\n",
       "      <td>0.206731</td>\n",
       "      <td>0.001347</td>\n",
       "      <td>0.322450</td>\n",
       "      <td>0.633580</td>\n",
       "      <td>0.70</td>\n",
       "    </tr>\n",
       "    <tr>\n",
       "      <th>3</th>\n",
       "      <td>0.217391</td>\n",
       "      <td>0.003937</td>\n",
       "      <td>0.444444</td>\n",
       "      <td>0.314286</td>\n",
       "      <td>0.776583</td>\n",
       "      <td>0.741335</td>\n",
       "      <td>0.019481</td>\n",
       "      <td>0.832119</td>\n",
       "      <td>0.205823</td>\n",
       "      <td>0.001018</td>\n",
       "      <td>0.321675</td>\n",
       "      <td>0.569124</td>\n",
       "      <td>0.55</td>\n",
       "    </tr>\n",
       "    <tr>\n",
       "      <th>4</th>\n",
       "      <td>0.212560</td>\n",
       "      <td>0.005512</td>\n",
       "      <td>0.611111</td>\n",
       "      <td>0.314286</td>\n",
       "      <td>0.830346</td>\n",
       "      <td>0.813291</td>\n",
       "      <td>0.041126</td>\n",
       "      <td>0.832070</td>\n",
       "      <td>0.205714</td>\n",
       "      <td>0.000252</td>\n",
       "      <td>0.321582</td>\n",
       "      <td>0.576634</td>\n",
       "      <td>0.55</td>\n",
       "    </tr>\n",
       "  </tbody>\n",
       "</table>\n",
       "</div>"
      ],
      "text/plain": [
       "         X1        X2        X3        X4        X5        X6        X7  \\\n",
       "0  0.093398  0.014173  0.444444  0.657143  0.867384  0.870968  0.019481   \n",
       "1  0.188406  0.055118  0.444444  0.657143  0.770609  0.563777  0.073593   \n",
       "2  0.281804  0.021260  0.555556  0.657143  0.886499  0.810842  0.112554   \n",
       "3  0.217391  0.003937  0.444444  0.314286  0.776583  0.741335  0.019481   \n",
       "4  0.212560  0.005512  0.611111  0.314286  0.830346  0.813291  0.041126   \n",
       "\n",
       "         X8        X9       X10       X11       X12   X13  \n",
       "0  0.833058  0.208023  0.000002  0.323554  0.543076  0.90  \n",
       "1  0.833087  0.207978  0.000002  0.323515  0.587864  0.80  \n",
       "2  0.832474  0.206731  0.001347  0.322450  0.633580  0.70  \n",
       "3  0.832119  0.205823  0.001018  0.321675  0.569124  0.55  \n",
       "4  0.832070  0.205714  0.000252  0.321582  0.576634  0.55  "
      ]
     },
     "execution_count": 7,
     "metadata": {},
     "output_type": "execute_result"
    }
   ],
   "source": [
    "df[columns].head()"
   ]
  },
  {
   "cell_type": "code",
   "execution_count": null,
   "metadata": {},
   "outputs": [],
   "source": []
  },
  {
   "cell_type": "code",
   "execution_count": 8,
   "metadata": {},
   "outputs": [],
   "source": [
    "from sklearn.model_selection import train_test_split"
   ]
  },
  {
   "cell_type": "code",
   "execution_count": 9,
   "metadata": {},
   "outputs": [],
   "source": [
    "train, test = train_test_split(df, test_size=0.20, random_state=99)"
   ]
  },
  {
   "cell_type": "code",
   "execution_count": 10,
   "metadata": {},
   "outputs": [
    {
     "data": {
      "text/plain": [
       "((6524, 17), (1631, 17))"
      ]
     },
     "execution_count": 10,
     "metadata": {},
     "output_type": "execute_result"
    }
   ],
   "source": [
    "(train.shape, test.shape)"
   ]
  },
  {
   "cell_type": "code",
   "execution_count": 11,
   "metadata": {},
   "outputs": [],
   "source": [
    "\n",
    "from sklearn.metrics import mean_squared_error, r2_score, confusion_matrix, classification_report #common metris to evaluate regression models\n"
   ]
  },
  {
   "cell_type": "code",
   "execution_count": 12,
   "metadata": {},
   "outputs": [
    {
     "name": "stdout",
     "output_type": "stream",
     "text": [
      "[[ 28  19  25  28  22   8]\n",
      " [ 17 114  44  38  28  56]\n",
      " [ 27  76  92  30  48  45]\n",
      " [ 11  57  40  73  36  75]\n",
      " [ 27  59  35  40  88  31]\n",
      " [  4  44  39  53  12 162]]\n",
      "              precision    recall  f1-score   support\n",
      "\n",
      "           1       0.25      0.22      0.23       130\n",
      "           2       0.31      0.38      0.34       297\n",
      "           3       0.33      0.29      0.31       318\n",
      "           4       0.28      0.25      0.26       292\n",
      "           5       0.38      0.31      0.34       280\n",
      "           6       0.43      0.52      0.47       314\n",
      "\n",
      "    accuracy                           0.34      1631\n",
      "   macro avg       0.33      0.33      0.33      1631\n",
      "weighted avg       0.34      0.34      0.34      1631\n",
      "\n"
     ]
    }
   ],
   "source": [
    "\n",
    "from sklearn.neighbors import KNeighborsClassifier\n",
    "model = KNeighborsClassifier(n_neighbors = 10)\n",
    "model.fit(train[columns], round(train['Y']))\n",
    "\n",
    "pred = model.predict(test[columns])\n",
    "print(confusion_matrix(round(test['Y']), pred))\n",
    "print(classification_report(round(test['Y']), pred))\n"
   ]
  },
  {
   "cell_type": "code",
   "execution_count": 13,
   "metadata": {},
   "outputs": [
    {
     "data": {
      "text/html": [
       "<div>\n",
       "<style scoped>\n",
       "    .dataframe tbody tr th:only-of-type {\n",
       "        vertical-align: middle;\n",
       "    }\n",
       "\n",
       "    .dataframe tbody tr th {\n",
       "        vertical-align: top;\n",
       "    }\n",
       "\n",
       "    .dataframe thead th {\n",
       "        text-align: right;\n",
       "    }\n",
       "</style>\n",
       "<table border=\"1\" class=\"dataframe\">\n",
       "  <thead>\n",
       "    <tr style=\"text-align: right;\">\n",
       "      <th></th>\n",
       "      <th>Y</th>\n",
       "      <th>0</th>\n",
       "    </tr>\n",
       "  </thead>\n",
       "  <tbody>\n",
       "    <tr>\n",
       "      <th>0</th>\n",
       "      <td>4</td>\n",
       "      <td>4</td>\n",
       "    </tr>\n",
       "    <tr>\n",
       "      <th>1</th>\n",
       "      <td>4</td>\n",
       "      <td>2</td>\n",
       "    </tr>\n",
       "    <tr>\n",
       "      <th>2</th>\n",
       "      <td>5</td>\n",
       "      <td>3</td>\n",
       "    </tr>\n",
       "    <tr>\n",
       "      <th>3</th>\n",
       "      <td>5</td>\n",
       "      <td>6</td>\n",
       "    </tr>\n",
       "    <tr>\n",
       "      <th>4</th>\n",
       "      <td>3</td>\n",
       "      <td>3</td>\n",
       "    </tr>\n",
       "    <tr>\n",
       "      <th>...</th>\n",
       "      <td>...</td>\n",
       "      <td>...</td>\n",
       "    </tr>\n",
       "    <tr>\n",
       "      <th>1626</th>\n",
       "      <td>6</td>\n",
       "      <td>4</td>\n",
       "    </tr>\n",
       "    <tr>\n",
       "      <th>1627</th>\n",
       "      <td>2</td>\n",
       "      <td>4</td>\n",
       "    </tr>\n",
       "    <tr>\n",
       "      <th>1628</th>\n",
       "      <td>6</td>\n",
       "      <td>4</td>\n",
       "    </tr>\n",
       "    <tr>\n",
       "      <th>1629</th>\n",
       "      <td>5</td>\n",
       "      <td>3</td>\n",
       "    </tr>\n",
       "    <tr>\n",
       "      <th>1630</th>\n",
       "      <td>3</td>\n",
       "      <td>3</td>\n",
       "    </tr>\n",
       "  </tbody>\n",
       "</table>\n",
       "<p>1631 rows × 2 columns</p>\n",
       "</div>"
      ],
      "text/plain": [
       "      Y  0\n",
       "0     4  4\n",
       "1     4  2\n",
       "2     5  3\n",
       "3     5  6\n",
       "4     3  3\n",
       "...  .. ..\n",
       "1626  6  4\n",
       "1627  2  4\n",
       "1628  6  4\n",
       "1629  5  3\n",
       "1630  3  3\n",
       "\n",
       "[1631 rows x 2 columns]"
      ]
     },
     "execution_count": 13,
     "metadata": {},
     "output_type": "execute_result"
    }
   ],
   "source": [
    "pd.DataFrame(model.predict(test[columns]), test['Y']).reset_index()"
   ]
  },
  {
   "cell_type": "code",
   "execution_count": 14,
   "metadata": {},
   "outputs": [],
   "source": [
    "\n",
    "from sklearn.dummy import DummyClassifier\n",
    "from sklearn.decomposition import PCA\n",
    "from sklearn.discriminant_analysis import LinearDiscriminantAnalysis as LDA\n",
    "from sklearn.ensemble import RandomForestClassifier\n",
    "from sklearn.neural_network import MLPClassifier\n",
    "from sklearn.model_selection import GridSearchCV\n"
   ]
  },
  {
   "cell_type": "code",
   "execution_count": 15,
   "metadata": {},
   "outputs": [
    {
     "name": "stdout",
     "output_type": "stream",
     "text": [
      "[[ 8 18 27 29 18 30]\n",
      " [24 59 59 62 46 47]\n",
      " [28 58 70 63 53 46]\n",
      " [21 46 45 61 58 61]\n",
      " [20 45 53 55 56 51]\n",
      " [19 51 53 60 64 67]]\n",
      "              precision    recall  f1-score   support\n",
      "\n",
      "           1       0.07      0.06      0.06       130\n",
      "           2       0.21      0.20      0.21       297\n",
      "           3       0.23      0.22      0.22       318\n",
      "           4       0.18      0.21      0.20       292\n",
      "           5       0.19      0.20      0.19       280\n",
      "           6       0.22      0.21      0.22       314\n",
      "\n",
      "    accuracy                           0.20      1631\n",
      "   macro avg       0.18      0.18      0.18      1631\n",
      "weighted avg       0.20      0.20      0.20      1631\n",
      "\n"
     ]
    },
    {
     "name": "stderr",
     "output_type": "stream",
     "text": [
      "/home/Srivamsi.s/anaconda3/envs/practice/lib/python3.8/site-packages/sklearn/dummy.py:131: FutureWarning: The default value of strategy will change from stratified to prior in 0.24.\n",
      "  warnings.warn(\"The default value of strategy will change from \"\n"
     ]
    }
   ],
   "source": [
    "# Dummy classifier chooses an output prediction out of random within the range of the provided inputs\n",
    "model = DummyClassifier()\n",
    "model.fit(train[columns], train['Y'])\n",
    "\n",
    "pred = model.predict(test[columns])\n",
    "print(confusion_matrix(test['Y'], pred))\n",
    "print(classification_report(test['Y'], pred))\n"
   ]
  },
  {
   "cell_type": "code",
   "execution_count": 16,
   "metadata": {},
   "outputs": [
    {
     "name": "stdout",
     "output_type": "stream",
     "text": [
      "[[ 79  17  11   5   9   9]\n",
      " [  1 199  16  17  19  45]\n",
      " [ 10  31 201  20  15  41]\n",
      " [  6  21  13 166  19  67]\n",
      " [  3  22   9  11 204  31]\n",
      " [  3   9  13  23   2 264]]\n",
      "              precision    recall  f1-score   support\n",
      "\n",
      "           1       0.77      0.61      0.68       130\n",
      "           2       0.67      0.67      0.67       297\n",
      "           3       0.76      0.63      0.69       318\n",
      "           4       0.69      0.57      0.62       292\n",
      "           5       0.76      0.73      0.74       280\n",
      "           6       0.58      0.84      0.68       314\n",
      "\n",
      "    accuracy                           0.68      1631\n",
      "   macro avg       0.70      0.67      0.68      1631\n",
      "weighted avg       0.70      0.68      0.68      1631\n",
      "\n"
     ]
    }
   ],
   "source": [
    "# Random forest classifier creates multiple decision trees to create an optimized classifier\n",
    "model = RandomForestClassifier()\n",
    "model.fit(train[columns], train['Y'])\n",
    "\n",
    "pred = model.predict(test[columns])\n",
    "print(confusion_matrix(test['Y'], pred))\n",
    "print(classification_report(test['Y'], pred))\n",
    "\n",
    "\n",
    "\n",
    "#     1   2  3  4  5  6\n",
    "# 1  [27  2  2  0  1  3] \n",
    "# 2  [ 6 21  4  1  1  2] \n",
    "# 3  [ 1  1 31  0  5 11] \n",
    "# 4  [ 3  2  4 25  5  6] \n",
    "# 5  [ 0  0  2  1 42 11] \n",
    "# 6  [ 0  0  3  0  5 62]  \n",
    "\n"
   ]
  },
  {
   "cell_type": "code",
   "execution_count": 17,
   "metadata": {},
   "outputs": [
    {
     "name": "stdout",
     "output_type": "stream",
     "text": [
      "[[ 11  40  15  11  29  24]\n",
      " [  2 128  22  27  33  85]\n",
      " [  6  75  77  31  50  79]\n",
      " [  5  64  17  49  44 113]\n",
      " [  3  52  20  18 133  54]\n",
      " [  0  20  15  23   0 256]]\n",
      "              precision    recall  f1-score   support\n",
      "\n",
      "           1       0.41      0.08      0.14       130\n",
      "           2       0.34      0.43      0.38       297\n",
      "           3       0.46      0.24      0.32       318\n",
      "           4       0.31      0.17      0.22       292\n",
      "           5       0.46      0.47      0.47       280\n",
      "           6       0.42      0.82      0.55       314\n",
      "\n",
      "    accuracy                           0.40      1631\n",
      "   macro avg       0.40      0.37      0.35      1631\n",
      "weighted avg       0.40      0.40      0.37      1631\n",
      "\n"
     ]
    }
   ],
   "source": [
    "# Grid search cv: it's an exhaustive search to look for the best classifier based on the instructions provided \n",
    "parameters_f = [{'max_depth': range(3,8), 'n_estimators': range(5,10), 'max_features': range(4,11)}]\n",
    "model = GridSearchCV(RandomForestClassifier(random_state=0), parameters_f)\n",
    "\n",
    "model.fit(train[columns], train['Y'])\n",
    "\n",
    "pred = model.predict(test[columns])\n",
    "print(confusion_matrix(test['Y'], pred))\n",
    "print(classification_report(test['Y'], pred))\n",
    "\n"
   ]
  },
  {
   "cell_type": "code",
   "execution_count": 18,
   "metadata": {},
   "outputs": [
    {
     "name": "stdout",
     "output_type": "stream",
     "text": [
      "[[  4  35  14   4  49  24]\n",
      " [  0  87  53  14  39 104]\n",
      " [  1  76  46   8  84 103]\n",
      " [  1  40  25  23  63 140]\n",
      " [  1  37  25   8 148  61]\n",
      " [  1  16  15  12   2 268]]\n",
      "              precision    recall  f1-score   support\n",
      "\n",
      "           1       0.50      0.03      0.06       130\n",
      "           2       0.30      0.29      0.30       297\n",
      "           3       0.26      0.14      0.19       318\n",
      "           4       0.33      0.08      0.13       292\n",
      "           5       0.38      0.53      0.45       280\n",
      "           6       0.38      0.85      0.53       314\n",
      "\n",
      "    accuracy                           0.35      1631\n",
      "   macro avg       0.36      0.32      0.27      1631\n",
      "weighted avg       0.34      0.35      0.30      1631\n",
      "\n"
     ]
    },
    {
     "name": "stderr",
     "output_type": "stream",
     "text": [
      "/home/Srivamsi.s/anaconda3/envs/practice/lib/python3.8/site-packages/sklearn/neural_network/_multilayer_perceptron.py:568: ConvergenceWarning: Stochastic Optimizer: Maximum iterations (200) reached and the optimization hasn't converged yet.\n",
      "  warnings.warn(\n"
     ]
    }
   ],
   "source": [
    "# MLP classifier is a neural network that is created. It stands for multi layer perceptron\n",
    "model = MLPClassifier()\n",
    "\n",
    "model.fit(train[columns], train['Y'])\n",
    "\n",
    "pred = model.predict(test[columns])\n",
    "print(confusion_matrix(test['Y'], pred))\n",
    "print(classification_report(test['Y'], pred))\n"
   ]
  },
  {
   "cell_type": "code",
   "execution_count": 19,
   "metadata": {},
   "outputs": [
    {
     "name": "stderr",
     "output_type": "stream",
     "text": [
      "/home/Srivamsi.s/anaconda3/envs/practice/lib/python3.8/site-packages/sklearn/neural_network/_multilayer_perceptron.py:568: ConvergenceWarning: Stochastic Optimizer: Maximum iterations (500) reached and the optimization hasn't converged yet.\n",
      "  warnings.warn(\n",
      "/home/Srivamsi.s/anaconda3/envs/practice/lib/python3.8/site-packages/sklearn/neural_network/_multilayer_perceptron.py:568: ConvergenceWarning: Stochastic Optimizer: Maximum iterations (500) reached and the optimization hasn't converged yet.\n",
      "  warnings.warn(\n",
      "/home/Srivamsi.s/anaconda3/envs/practice/lib/python3.8/site-packages/sklearn/neural_network/_multilayer_perceptron.py:568: ConvergenceWarning: Stochastic Optimizer: Maximum iterations (500) reached and the optimization hasn't converged yet.\n",
      "  warnings.warn(\n",
      "/home/Srivamsi.s/anaconda3/envs/practice/lib/python3.8/site-packages/sklearn/neural_network/_multilayer_perceptron.py:568: ConvergenceWarning: Stochastic Optimizer: Maximum iterations (500) reached and the optimization hasn't converged yet.\n",
      "  warnings.warn(\n",
      "/home/Srivamsi.s/anaconda3/envs/practice/lib/python3.8/site-packages/sklearn/neural_network/_multilayer_perceptron.py:568: ConvergenceWarning: Stochastic Optimizer: Maximum iterations (500) reached and the optimization hasn't converged yet.\n",
      "  warnings.warn(\n",
      "/home/Srivamsi.s/anaconda3/envs/practice/lib/python3.8/site-packages/sklearn/neural_network/_multilayer_perceptron.py:568: ConvergenceWarning: Stochastic Optimizer: Maximum iterations (500) reached and the optimization hasn't converged yet.\n",
      "  warnings.warn(\n",
      "/home/Srivamsi.s/anaconda3/envs/practice/lib/python3.8/site-packages/sklearn/neural_network/_multilayer_perceptron.py:568: ConvergenceWarning: Stochastic Optimizer: Maximum iterations (500) reached and the optimization hasn't converged yet.\n",
      "  warnings.warn(\n",
      "/home/Srivamsi.s/anaconda3/envs/practice/lib/python3.8/site-packages/sklearn/neural_network/_multilayer_perceptron.py:568: ConvergenceWarning: Stochastic Optimizer: Maximum iterations (500) reached and the optimization hasn't converged yet.\n",
      "  warnings.warn(\n",
      "/home/Srivamsi.s/anaconda3/envs/practice/lib/python3.8/site-packages/sklearn/neural_network/_multilayer_perceptron.py:568: ConvergenceWarning: Stochastic Optimizer: Maximum iterations (500) reached and the optimization hasn't converged yet.\n",
      "  warnings.warn(\n",
      "/home/Srivamsi.s/anaconda3/envs/practice/lib/python3.8/site-packages/sklearn/neural_network/_multilayer_perceptron.py:568: ConvergenceWarning: Stochastic Optimizer: Maximum iterations (500) reached and the optimization hasn't converged yet.\n",
      "  warnings.warn(\n",
      "/home/Srivamsi.s/anaconda3/envs/practice/lib/python3.8/site-packages/sklearn/neural_network/_multilayer_perceptron.py:568: ConvergenceWarning: Stochastic Optimizer: Maximum iterations (500) reached and the optimization hasn't converged yet.\n",
      "  warnings.warn(\n",
      "/home/Srivamsi.s/anaconda3/envs/practice/lib/python3.8/site-packages/sklearn/neural_network/_multilayer_perceptron.py:568: ConvergenceWarning: Stochastic Optimizer: Maximum iterations (500) reached and the optimization hasn't converged yet.\n",
      "  warnings.warn(\n",
      "/home/Srivamsi.s/anaconda3/envs/practice/lib/python3.8/site-packages/sklearn/neural_network/_multilayer_perceptron.py:568: ConvergenceWarning: Stochastic Optimizer: Maximum iterations (500) reached and the optimization hasn't converged yet.\n",
      "  warnings.warn(\n",
      "/home/Srivamsi.s/anaconda3/envs/practice/lib/python3.8/site-packages/sklearn/neural_network/_multilayer_perceptron.py:568: ConvergenceWarning: Stochastic Optimizer: Maximum iterations (500) reached and the optimization hasn't converged yet.\n",
      "  warnings.warn(\n"
     ]
    },
    {
     "name": "stdout",
     "output_type": "stream",
     "text": [
      "[[  1  35  11   1  56  26]\n",
      " [  0 125  31  10  42  89]\n",
      " [  0 109  26   4  88  91]\n",
      " [  1  73   9  14  66 129]\n",
      " [  0  53  15   3 150  59]\n",
      " [  0  46  10   6   0 252]]\n",
      "              precision    recall  f1-score   support\n",
      "\n",
      "           1       0.50      0.01      0.02       130\n",
      "           2       0.28      0.42      0.34       297\n",
      "           3       0.25      0.08      0.12       318\n",
      "           4       0.37      0.05      0.08       292\n",
      "           5       0.37      0.54      0.44       280\n",
      "           6       0.39      0.80      0.53       314\n",
      "\n",
      "    accuracy                           0.35      1631\n",
      "   macro avg       0.36      0.32      0.25      1631\n",
      "weighted avg       0.35      0.35      0.28      1631\n",
      "\n"
     ]
    },
    {
     "name": "stderr",
     "output_type": "stream",
     "text": [
      "/home/Srivamsi.s/anaconda3/envs/practice/lib/python3.8/site-packages/sklearn/neural_network/_multilayer_perceptron.py:568: ConvergenceWarning: Stochastic Optimizer: Maximum iterations (500) reached and the optimization hasn't converged yet.\n",
      "  warnings.warn(\n"
     ]
    }
   ],
   "source": [
    "# Grid search with Neural network. \n",
    "# sgd: stochastic gradient descent. algorithm for finding the minima and reducing the error\n",
    "# alpha: L2 penalty\n",
    "# activation: activation functions to pass through and create continuous, increasing, differentiable output (sometimes non linear)\n",
    "# hidden layer size: set input and output layers are set based on the data. middle layers sizes can be changed as per requirement\n",
    "parameters_n = [{'alpha': [0.0001, 0.001, 0.01, 0.1],'activation': ['tanh', 'relu'],\n",
    "    'solver': ['sgd', 'adam'],\n",
    "    'learning_rate': ['constant','adaptive'], 'hidden_layer_sizes':[(2,),(4,),(7,)]}]\n",
    "model = GridSearchCV(MLPClassifier(random_state=2, max_iter = 500), parameters_n,cv=4)\n",
    "\n",
    "\n",
    "model.fit(train[columns], train['Y'])\n",
    "\n",
    "pred = model.predict(test[columns])\n",
    "print(confusion_matrix(test['Y'], pred))\n",
    "print(classification_report(test['Y'], pred))\n",
    "\n"
   ]
  },
  {
   "cell_type": "code",
   "execution_count": null,
   "metadata": {},
   "outputs": [],
   "source": []
  },
  {
   "cell_type": "code",
   "execution_count": 20,
   "metadata": {},
   "outputs": [],
   "source": [
    "from sklearn import svm"
   ]
  },
  {
   "cell_type": "code",
   "execution_count": null,
   "metadata": {},
   "outputs": [],
   "source": [
    "model = svm.SVC()\n",
    "params_grid = [{'kernel': ['rbf'], 'gamma': [1e-3, 1e-4],\n",
    "                     'C': [1, 10, 100, 1000]},\n",
    "                    {'kernel': ['linear'], 'C': [1, 10, 100, 1000]}]\n",
    "model = GridSearchCV(model, params_grid, cv=5)\n",
    "\n",
    "\n",
    "model.fit(train[columns], train['Y'])\n",
    "\n",
    "pred = model.predict(test[columns])\n",
    "print(confusion_matrix(test['Y'], pred))\n",
    "print(classification_report(test['Y'], pred))\n"
   ]
  },
  {
   "cell_type": "code",
   "execution_count": null,
   "metadata": {},
   "outputs": [],
   "source": []
  },
  {
   "cell_type": "code",
   "execution_count": null,
   "metadata": {},
   "outputs": [],
   "source": [
    "from sklearn.naive_bayes import GaussianNB , MultinomialNB, BernoulliNB, ComplementNB"
   ]
  },
  {
   "cell_type": "code",
   "execution_count": null,
   "metadata": {},
   "outputs": [],
   "source": [
    "model = GaussianNB()\n",
    "\n",
    "model.fit(train[columns], train['Y'])\n",
    "\n",
    "pred = model.predict(test[columns])\n",
    "print(confusion_matrix(test['Y'], pred))\n",
    "print(classification_report(test['Y'], pred))\n"
   ]
  },
  {
   "cell_type": "code",
   "execution_count": null,
   "metadata": {},
   "outputs": [],
   "source": [
    "model=MultinomialNB(alpha=1.0, fit_prior=True)\n",
    "model.fit(train[columns], train['Y'])\n",
    "\n",
    "pred = model.predict(test[columns])\n",
    "print(confusion_matrix(test['Y'], pred))\n",
    "print(classification_report(test['Y'], pred))\n"
   ]
  },
  {
   "cell_type": "code",
   "execution_count": null,
   "metadata": {},
   "outputs": [],
   "source": [
    "model=BernoulliNB(alpha=1.5,  fit_prior=True)\n",
    "model.fit(train[columns], train['Y'])\n",
    "\n",
    "pred = model.predict(test[columns])\n",
    "print(confusion_matrix(test['Y'], pred))\n",
    "print(classification_report(test['Y'], pred))\n"
   ]
  },
  {
   "cell_type": "code",
   "execution_count": null,
   "metadata": {},
   "outputs": [],
   "source": [
    "model=ComplementNB(alpha=20, fit_prior=True)\n",
    "model.fit(train[columns], train['Y'])\n",
    "\n",
    "pred = model.predict(test[columns])\n",
    "print(confusion_matrix(test['Y'], pred))\n",
    "print(classification_report(test['Y'], pred))\n"
   ]
  },
  {
   "cell_type": "code",
   "execution_count": null,
   "metadata": {},
   "outputs": [],
   "source": [
    "from sklearn.ensemble import AdaBoostClassifier, BaggingClassifier, GradientBoostingClassifier ,VotingClassifier\n",
    "from sklearn.tree import DecisionTreeClassifier"
   ]
  },
  {
   "cell_type": "code",
   "execution_count": null,
   "metadata": {},
   "outputs": [],
   "source": [
    "bdt = AdaBoostClassifier(DecisionTreeClassifier(max_depth=2),\n",
    "                         algorithm=\"SAMME\",\n",
    "                         n_estimators=200)\n",
    "bdt.fit(train[columns], train['Y'])\n",
    "\n",
    "pred = bdt.predict(test[columns])\n",
    "print(confusion_matrix(test['Y'], pred))\n",
    "print(classification_report(test['Y'], pred))\n"
   ]
  },
  {
   "cell_type": "code",
   "execution_count": null,
   "metadata": {},
   "outputs": [],
   "source": [
    "clf1 = GradientBoostingClassifier(n_estimators=100, learning_rate=0.05,\n",
    "    max_depth=2, random_state=0)\n",
    "\n",
    "clf1.fit(train[columns], train['Y'])\n",
    "\n",
    "pred = clf1.predict(test[columns])\n",
    "print(confusion_matrix(test['Y'], pred))\n",
    "print(classification_report(test['Y'], pred))\n"
   ]
  },
  {
   "cell_type": "code",
   "execution_count": null,
   "metadata": {},
   "outputs": [],
   "source": [
    "# Random forest classifier creates multiple decision trees to create an optimized classifier\n",
    "rf = RandomForestClassifier()\n",
    "rf.fit(train[columns], train['Y'])\n",
    "\n",
    "pred = rf.predict(test[columns])\n",
    "print(confusion_matrix(test['Y'], pred))\n",
    "print(classification_report(test['Y'], pred))\n",
    "\n",
    "\n"
   ]
  },
  {
   "cell_type": "code",
   "execution_count": null,
   "metadata": {},
   "outputs": [],
   "source": [
    "from sklearn.model_selection import cross_val_score"
   ]
  },
  {
   "cell_type": "code",
   "execution_count": null,
   "metadata": {},
   "outputs": [],
   "source": [
    "eclfh = VotingClassifier(estimators=[('gbc', clf1), ('bdt', bdt), ('rf', rf)], voting='soft')\n",
    "for clf, label in zip([clf1, bdt , rf, eclfh], ['GradientBoostingClassifier',  'AdaBoostClassifier', 'RandomForestClassifier', 'Ensemble']):\n",
    "    scores = cross_val_score(clf, train[columns], train['Y'], cv=5, scoring='accuracy')\n",
    "    print(\"Accuracy: %0.2f (+/- %0.2f) [%s]\" % (scores.mean(), scores.std(), label))"
   ]
  },
  {
   "cell_type": "code",
   "execution_count": null,
   "metadata": {},
   "outputs": [],
   "source": []
  },
  {
   "cell_type": "code",
   "execution_count": null,
   "metadata": {},
   "outputs": [],
   "source": []
  },
  {
   "cell_type": "code",
   "execution_count": null,
   "metadata": {},
   "outputs": [],
   "source": []
  },
  {
   "cell_type": "code",
   "execution_count": null,
   "metadata": {},
   "outputs": [],
   "source": []
  },
  {
   "cell_type": "code",
   "execution_count": null,
   "metadata": {},
   "outputs": [],
   "source": []
  }
 ],
 "metadata": {
  "kernelspec": {
   "display_name": "Python 3",
   "language": "python",
   "name": "python3"
  },
  "language_info": {
   "codemirror_mode": {
    "name": "ipython",
    "version": 3
   },
   "file_extension": ".py",
   "mimetype": "text/x-python",
   "name": "python",
   "nbconvert_exporter": "python",
   "pygments_lexer": "ipython3",
   "version": "3.8.1"
  }
 },
 "nbformat": 4,
 "nbformat_minor": 4
}
